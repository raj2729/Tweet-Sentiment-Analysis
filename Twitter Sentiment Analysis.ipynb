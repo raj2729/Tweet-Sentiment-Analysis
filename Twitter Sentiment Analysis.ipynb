{
 "cells": [
  {
   "cell_type": "code",
   "execution_count": null,
   "metadata": {
    "colab": {
     "base_uri": "https://localhost:8080/",
     "height": 70
    },
    "colab_type": "code",
    "id": "YBp2qDPb8pDo",
    "outputId": "42021516-5452-4958-b8fb-71111552dbd3"
   },
   "outputs": [],
   "source": [
    "import pandas as pd\n",
    "import numpy as np\n",
    "import seaborn as sns\n",
    "import matplotlib.pyplot as plt\n",
    "import re\n",
    "from textblob import TextBlob\n",
    "from wordcloud import WordCloud"
   ]
  },
  {
   "cell_type": "code",
   "execution_count": null,
   "metadata": {
    "colab": {},
    "colab_type": "code",
    "id": "tjIiJdM4u1IE"
   },
   "outputs": [],
   "source": [
    "# Load the data\n",
    "tweets_df = pd.read_csv('twitter.csv')"
   ]
  },
  {
   "cell_type": "code",
   "execution_count": null,
   "metadata": {
    "colab": {
     "base_uri": "https://localhost:8080/",
     "height": 402
    },
    "colab_type": "code",
    "id": "q4_wPDKCu5Uc",
    "outputId": "dbf80e99-bd48-408e-dd6f-4651fecbe757"
   },
   "outputs": [],
   "source": [
    "tweets_df"
   ]
  },
  {
   "cell_type": "code",
   "execution_count": null,
   "metadata": {},
   "outputs": [],
   "source": [
    "tweets_df.head()"
   ]
  },
  {
   "cell_type": "code",
   "execution_count": null,
   "metadata": {
    "colab": {
     "base_uri": "https://localhost:8080/",
     "height": 185
    },
    "colab_type": "code",
    "id": "RUt2ON_UxyYk",
    "outputId": "4948f7ca-ec1b-4561-97bb-8d3ce688e623"
   },
   "outputs": [],
   "source": [
    "tweets_df.info()"
   ]
  },
  {
   "cell_type": "code",
   "execution_count": null,
   "metadata": {
    "colab": {
     "base_uri": "https://localhost:8080/",
     "height": 284
    },
    "colab_type": "code",
    "id": "hMq3-KWOx0e1",
    "outputId": "d2e856cc-639b-4ff5-a939-dadbb237fdc1"
   },
   "outputs": [],
   "source": [
    "tweets_df.describe()"
   ]
  },
  {
   "cell_type": "code",
   "execution_count": null,
   "metadata": {
    "colab": {
     "base_uri": "https://localhost:8080/",
     "height": 218
    },
    "colab_type": "code",
    "id": "0uwENWm__yoA",
    "outputId": "2e360117-80c3-4bce-e61a-1aa21ba804f4"
   },
   "outputs": [],
   "source": [
    "tweets_df['tweet']"
   ]
  },
  {
   "cell_type": "code",
   "execution_count": null,
   "metadata": {},
   "outputs": [],
   "source": [
    "# sns.countplot(tweets_df['label'], label = \"Count\") \n",
    "tweets_df=tweets_df.drop([\"id\"],axis=1)"
   ]
  },
  {
   "cell_type": "code",
   "execution_count": null,
   "metadata": {},
   "outputs": [],
   "source": [
    "tweets_df.head()"
   ]
  },
  {
   "cell_type": "code",
   "execution_count": null,
   "metadata": {},
   "outputs": [],
   "source": [
    "# Create a function to clean the tweets\n",
    "def cleanTxt(text):\n",
    "     text = re.sub('@[A-Za-z0–9]+', '', text) #Removing @mentions\n",
    "     text = re.sub('#', '', text) # Removing '#' hash tag\n",
    "     text = re.sub('RT[\\s]+', '', text) # Removing RT\n",
    "     text = re.sub('https?:\\/\\/\\S+', '', text) # Removing hyperlink\n",
    "\n",
    "     return text\n",
    "\n",
    "\n",
    "# Clean the tweets\n",
    "tweets_df['tweet'] = tweets_df['tweet'].apply(cleanTxt)\n",
    "\n",
    "# Show the cleaned tweets\n",
    "tweets_df"
   ]
  },
  {
   "cell_type": "code",
   "execution_count": null,
   "metadata": {},
   "outputs": [],
   "source": [
    "# tweets_df=tweets_df.drop([\"Tweets\"],axis=1)\n",
    "tweets_df.head()"
   ]
  },
  {
   "cell_type": "code",
   "execution_count": null,
   "metadata": {},
   "outputs": [],
   "source": [
    "# Create a function to get the subjectivity\n",
    "def getSubjectivity(text):\n",
    "   return TextBlob(text).sentiment.subjectivity\n",
    "\n",
    "# Create a function to get the polarity\n",
    "def getPolarity(text):\n",
    "   return  TextBlob(text).sentiment.polarity\n",
    "\n",
    "\n",
    "# Create two new columns 'Subjectivity' & 'Polarity'\n",
    "tweets_df['Subjectivity'] = tweets_df['tweet'].apply(getSubjectivity)\n",
    "tweets_df['Polarity'] = tweets_df['tweet'].apply(getPolarity)\n",
    "\n",
    "# Show the new dataframe with columns 'Subjectivity' & 'Polarity'\n",
    "tweets_df.head()"
   ]
  },
  {
   "cell_type": "code",
   "execution_count": null,
   "metadata": {},
   "outputs": [],
   "source": [
    "# Create a function to compute negative (-1), neutral (0) and positive (+1) analysis\n",
    "def getAnalysis(score):\n",
    "    if score < 0:\n",
    "      return 'Negative'\n",
    "    elif score == 0:\n",
    "      return 'Neutral'\n",
    "    else:\n",
    "      return 'Positive'\n",
    "tweets_df['Analysis'] = tweets_df['Polarity'].apply(getAnalysis)\n",
    "# Show the dataframe\n",
    "tweets_df.head()"
   ]
  },
  {
   "cell_type": "code",
   "execution_count": null,
   "metadata": {},
   "outputs": [],
   "source": [
    "tweets_df['Analysis'].value_counts()"
   ]
  },
  {
   "cell_type": "code",
   "execution_count": null,
   "metadata": {},
   "outputs": [],
   "source": [
    "# Plotting and visualizing the counts\n",
    "plt.title('Sentiment Analysis',fontweight =\"bold\")\n",
    "plt.xlabel('Sentiment')\n",
    "plt.ylabel('Counts')\n",
    "tweets_df['Analysis'].value_counts().plot(kind = 'bar')\n",
    "ax=tweets_df['Analysis'].value_counts().plot(kind = 'bar',figsize=(7,5),color='indigo',fontsize=14)\n",
    "\n",
    "totals=[]\n",
    "for i in ax.patches:\n",
    "    totals.append(i.get_height())\n",
    "    \n",
    "total=sum(totals)\n",
    "\n",
    "for i in ax.patches:\n",
    "    ax.text(i.get_x(),i.get_height()-3000,str(round((i.get_height()/total)*100,2))+'%',fontsize=16,color='white')\n",
    "    ax.text(i.get_x()+.12,i.get_height()+80,str(round((i.get_height()),2)),fontsize=12,color='black')\n",
    "plt.show()"
   ]
  }
 ],
 "metadata": {
  "accelerator": "GPU",
  "colab": {
   "collapsed_sections": [],
   "name": "Twitter Sentiment Analysis.ipynb",
   "provenance": []
  },
  "kernelspec": {
   "display_name": "Python 3",
   "language": "python",
   "name": "python3"
  },
  "language_info": {
   "codemirror_mode": {
    "name": "ipython",
    "version": 3
   },
   "file_extension": ".py",
   "mimetype": "text/x-python",
   "name": "python",
   "nbconvert_exporter": "python",
   "pygments_lexer": "ipython3",
   "version": "3.7.0"
  }
 },
 "nbformat": 4,
 "nbformat_minor": 1
}
